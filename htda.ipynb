{
 "cells": [
  {
   "cell_type": "markdown",
   "metadata": {},
   "source": [
    "# <center> Bài toán tìm xác xuất hoàn thành dự án </center>"
   ]
  },
  {
   "cell_type": "markdown",
   "metadata": {},
   "source": [
    "Mục đích của bài toán là tìm giá trị trung bình ($\\mu$) và phương sai ($\\sigma$) cho phân bố chuẩn xác suất hoàn thành dự án theo thời gian. Từ đó tìm được xác suất hoàn thành dự án trong thời gian muốn biết. "
   ]
  },
  {
   "cell_type": "markdown",
   "metadata": {},
   "source": [
    "**Ví dụ cho bảng ví dụ sau, tìm xác suất để hoàn thành dự án trong 34 ngày.** ([Youtube](https://www.youtube.com/watch?v=LryrWD-Ud8E&list=PLxwxUPrl6ShJVjr0Onsy1Hy2mx3hBBR1Z&index=5))"
   ]
  },
  {
   "cell_type": "code",
   "execution_count": 28,
   "metadata": {},
   "outputs": [
    {
     "name": "stdout",
     "output_type": "stream",
     "text": [
      "  Activity  Optimistic (a)  Most Likely (m)  Pessimistic (b) Predecessors\n",
      "0        A               3                4               11            -\n",
      "1        B               2                5                8            A\n",
      "2        C               3                6                9            A\n",
      "3        D              10               13               22          B,C\n",
      "4        E               4                5               12            B\n",
      "5        F               1                4                7            D\n",
      "6        G               6                8               16            C\n",
      "7        H               1                2                3        E,F,G\n"
     ]
    }
   ],
   "source": [
    "import pandas as pd\n",
    "\n",
    "db = pd.read_csv(\"vd.csv\", sep = \"\\t\")\n",
    "print(db)"
   ]
  },
  {
   "cell_type": "markdown",
   "metadata": {},
   "source": [
    "<u>Chú thích:</u>\n",
    "- Cột 1: Tên các công việc trong dự án\n",
    "- Cột 2: Thời gian lạc quan (a), thời gian sớm nhất công việc có thể hoàn thành\n",
    "- Cột 3: Thời gian dễ xảy ra nhất (m), thời gian để hoàn thành công việc có xác suất cao nhất\n",
    "- Cột 4: Thời gian bi quan (b), thời gian trễ nhất để hoàn thành công việc\n",
    "- Cột 5: Công việc liền trước"
   ]
  },
  {
   "cell_type": "markdown",
   "metadata": {},
   "source": [
    "## **<center> Giải </center>**"
   ]
  },
  {
   "cell_type": "markdown",
   "metadata": {},
   "source": [
    "### Bước 1: Tính thời gian mong đợi hoàn thành công việc (Expected time)\n",
    "\n",
    "Sử dụng công thức: $$TE=\\frac{a+4m+b}{6}$$\n",
    "<u>Với:</u>\n",
    "- TE là thời gian mong đợi\n",
    "- a là thời gian lạc quan\n",
    "- b là thời gian dễ xảy ra nhất\n",
    "- c là thời gian bi quan"
   ]
  },
  {
   "cell_type": "code",
   "execution_count": 29,
   "metadata": {},
   "outputs": [
    {
     "name": "stdout",
     "output_type": "stream",
     "text": [
      "[5.0, 5.0, 6.0, 14.0, 6.0, 4.0, 9.0, 2.0]\n"
     ]
    }
   ],
   "source": [
    "## Khai bao bien du lieu\n",
    "a_vals = list(db.iloc[:,1])\n",
    "m_vals = list(db.iloc[:,2])\n",
    "b_vals = list(db.iloc[:,3])\n",
    "tenac = list(db.iloc[:,0])\n",
    "prede = list(db.iloc[:,-1])\n",
    "#print(a_vals)\n",
    "\n",
    "## Tinh TE \n",
    "te_vals = [(a_vals[i]+4*m_vals[i]+b_vals[i])/6 for i in range(len(a_vals))]\n",
    "print(te_vals)"
   ]
  },
  {
   "cell_type": "markdown",
   "metadata": {},
   "source": [
    "### Bước 2: Tính phương sai (Variance) "
   ]
  },
  {
   "cell_type": "markdown",
   "metadata": {},
   "source": [
    "Tính phương sai theo công thức: $$ \\sigma^2 = \\frac{(b-a)^2}{36} $$\n"
   ]
  },
  {
   "cell_type": "markdown",
   "metadata": {},
   "source": [
    "<u>Với:</u> \n",
    "- $\\sigma$ là độ lệch chuẩn, phương sai bằng $\\sigma^2$\n",
    "- a là thời gian lạc quan\n",
    "- b là thời gian bi quan "
   ]
  },
  {
   "cell_type": "code",
   "execution_count": 30,
   "metadata": {},
   "outputs": [
    {
     "name": "stdout",
     "output_type": "stream",
     "text": [
      "[1.7777777777777777, 1.0, 1.0, 4.0, 1.7777777777777777, 1.0, 2.7777777777777777, 0.1111111111111111]\n"
     ]
    }
   ],
   "source": [
    "ps = [(b_vals[i]-a_vals[i])**2/36 for i in range(len(b_vals))] # phuong sai\n",
    "print(ps)"
   ]
  },
  {
   "cell_type": "markdown",
   "metadata": {},
   "source": [
    "### Bước 3: Vẽ Gantt chart và xác định đường Gantt"
   ]
  },
  {
   "cell_type": "markdown",
   "metadata": {},
   "source": [
    "Vẽ Gantt Chart dựa trên Predecessors và xác định đường Gantt dựa trên TE (tổng TE lớn nhất):\n",
    "- Xác định các con đường "
   ]
  },
  {
   "cell_type": "code",
   "execution_count": 31,
   "metadata": {},
   "outputs": [],
   "source": [
    "import networkx as nx\n",
    "def tim_vector(tenda,pretenda): # Tim cac vector tren giang do\n",
    "\tStart_point = [i for i in tenda if pretenda[tenda.index(i)] == '-'] #Tìm start point\n",
    "\t#print(Start_point)\n",
    "\n",
    "\t# Liệt kê các vector:\n",
    "\t##Thêm vector start point\n",
    "\tvector = [[\"Start\",i] for i in Start_point] \n",
    "\t#print(vector)\n",
    "\n",
    "\t##Thêm vector trung gian\n",
    "\tfor i in range(len(pretenda)): \n",
    "\t    if pretenda[i] != \"-\" and len(pretenda[i]) == 1:\n",
    "\t        vector.append([pretenda[i],tenda[i]])\n",
    "\t    elif len(pretenda[i]) > 1:\n",
    "\t        Stats = pretenda[i].split(\",\")\n",
    "\t        for k in range(len(Stats)):\n",
    "\t            vector.append([Stats[k],tenda[i]]) \n",
    "\t#print(vector)\n",
    "\n",
    "\t##Tìm end point\n",
    "\tEnd_point = []\n",
    "\tfor i in range(len(tenda)):\n",
    "\t    a = 0\n",
    "\t    for k in range(len(pretenda)):\n",
    "\t        if tenda[i] in pretenda[k]:\n",
    "\t            a += 1\n",
    "\t    if a == 0:\n",
    "\t        End_point.append(tenda[i])\n",
    "\t#print(End_point)\n",
    "\n",
    "\tvector.extend([[i,'End'] for i in End_point])\n",
    "\t#print(vector)\n",
    "\treturn vector\n",
    "\n",
    "def all_paths(G): # Xuat ra cac con duong\n",
    "    roots = (v for v, d in G.in_degree() if d == 0)\n",
    "    leaves = [v for v, d in G.out_degree() if d == 0]\n",
    "    all_paths = []\n",
    "    for root in roots:\n",
    "        paths = nx.all_simple_paths(G, root, leaves)\n",
    "        all_paths.extend(paths)\n",
    "    return all_paths\n",
    "\n",
    "def pathsf(tenda,pretenda): # Xac dinh cac con duong\n",
    "\t# Xac dinh cac con duong\n",
    "\t## Xac dinh cac vecto\n",
    "\tvector = tim_vector(tenda,pretenda)\n",
    "\t#print(vector)\n",
    "\t## Xac dinh cac con duong\n",
    "\tG = nx.DiGraph()\n",
    "\tG.add_edges_from(vector)\n",
    "\tpaths = all_paths(G)\n",
    "\t#print(lisotoString(paths))\n",
    "\treturn paths\n"
   ]
  },
  {
   "cell_type": "code",
   "execution_count": 32,
   "metadata": {},
   "outputs": [
    {
     "name": "stdout",
     "output_type": "stream",
     "text": [
      "[['Start', 'A', 'B', 'D', 'F', 'H', 'End'], ['Start', 'A', 'B', 'E', 'H', 'End'], ['Start', 'A', 'C', 'D', 'F', 'H', 'End'], ['Start', 'A', 'C', 'G', 'H', 'End']]\n"
     ]
    }
   ],
   "source": [
    "paths =  pathsf(tenac,prede)\n",
    "print(paths)"
   ]
  },
  {
   "cell_type": "markdown",
   "metadata": {},
   "source": [
    "- Tính Tổng TE của các con đường và tìm index đường Gantt (tổng TE lớn nhất)"
   ]
  },
  {
   "cell_type": "code",
   "execution_count": 33,
   "metadata": {},
   "outputs": [],
   "source": [
    "def Tim_gantt(paths,tenda,tg1): # Rà thời gian thực hiện dự án của các con đường \n",
    "    g_list = []\n",
    "    for i in range(len(paths)):\n",
    "        g_val = []\n",
    "        for k in range(1,len(paths[i])-1):\n",
    "            for j in range(len(tenda)):\n",
    "                if tenda[j] == paths[i][k]:\n",
    "                    g_val.append(tg1[j])\n",
    "        g_list.append(g_val)\n",
    "    return g_list\n",
    "\n",
    "class Ganttc(): \n",
    "\tdef __init__(self,tenda,paths,tg1):\n",
    "\t\tself.tenda = tenda\n",
    "\t\tself.paths = paths\n",
    "\t\tself.tg1 = tg1\n",
    "\t\tself.g_list = Tim_gantt(self.paths,self.tenda,self.tg1)\n",
    "    #print(g_list)\n",
    "\n",
    "\tdef time(self): # Tra ve thoi gian hoan thanh du an    \n",
    "\t\treturn [sum(i) for i in self.g_list]\n",
    "    \t#print(\"Thời gian hoàn thành: \"+ str(g_val_list))\n",
    "\n",
    "\tdef gantt(self): # Tra ve duong gantt\n",
    "\t    max_tg = max(self.time())\n",
    "\t    #print(max_tg)\n",
    "\n",
    "\t    Gantt = [self.time().index(max_tg)]\n",
    "\t    return Gantt"
   ]
  },
  {
   "cell_type": "code",
   "execution_count": 34,
   "metadata": {},
   "outputs": [
    {
     "name": "stdout",
     "output_type": "stream",
     "text": [
      "[30.0, 18.0, 31.0, 22.0]\n",
      "[2]\n"
     ]
    }
   ],
   "source": [
    "Gantt = Ganttc(tenac,paths,te_vals)\n",
    "\n",
    "te_paths = Gantt.time()\n",
    "print(te_paths)\n",
    "\n",
    "index_gantt = Gantt.gantt()\n",
    "print(index_gantt)"
   ]
  },
  {
   "cell_type": "markdown",
   "metadata": {},
   "source": [
    "### Bước 4: Tính các giá trị thông số của network để xác định $\\mu$ và $\\Sigma\\sigma^2$ trên đường Gantt \n",
    "\n",
    "    - EST (earliest start time): thời gian bắt đầu dự án sớm nhất\n",
    "    - EFT (earliest finish time): thời gian kết thúc dự án sớm nhất\n",
    "    - LST (latest start time): thời gian bắt đầu dự án muộn nhất\n",
    "    - LFT (latest finish time): thời gian kết thúc dự án muộn nhất\n",
    "\n",
    "![Sơ đồ](20221202113044.png)  \n"
   ]
  },
  {
   "cell_type": "code",
   "execution_count": 35,
   "metadata": {},
   "outputs": [
    {
     "name": "stdout",
     "output_type": "stream",
     "text": [
      "[0, 5.0, 5.0, 11.0, 10.0, 25.0, 11.0, 29.0]\n",
      "[5.0, 10.0, 11.0, 25.0, 16.0, 29.0, 20.0, 31.0]\n"
     ]
    }
   ],
   "source": [
    "# Tạo hàm tính EST và EFT\n",
    "def Find_pp(paths,nameac): # Tim cac diem lien ke truoc cua 1 diem tron cac con duong\n",
    "    beforeac = [sublist[i-1] for sublist in paths for i in range(len(sublist)) if sublist[i] == nameac] # Lay cac ac nam truoc nameac trong cac con duong\n",
    "    #print(beforeac)\n",
    "    beforeac_uniq = []\n",
    "    tem = [beforeac_uniq.append(i) for i in beforeac if i not in beforeac_uniq] # Chon loc duy nhat\n",
    "    #print(beforeac_uniq)\n",
    "    return beforeac_uniq\n",
    "#print(Find_pp(paths,nameac))\n",
    "\n",
    "def Find_est(tenac,te_vals,paths): # Tìm est vaf eft cua cac cong viec\n",
    "    est_lib = {tenac[i]:[0,te_vals[i]] for i in range(len(tenac))} # Tao thu vien est\n",
    "    #print(est_lib)\n",
    "\n",
    "    for path in paths:\n",
    "        for i in range(2,len(path)-1): # Tinh cac 1 input truoc\n",
    "            pp = Find_pp(paths,path[i])\n",
    "            #print(pp)\n",
    "            if len(pp) == 1:\n",
    "                est_lib[path[i]][0] = est_lib[pp[0]][0]+est_lib[pp[0]][1]\n",
    "        \n",
    "        for i in range(2,len(path)-1): # Tinh cac hai input tro len\n",
    "            pp = Find_pp(paths,path[i])\n",
    "            #print(pp)\n",
    "            if len(pp) > 1:\n",
    "                est_lib[path[i]][0] = max([est_lib[k][0]+est_lib[k][1] for k in pp])\n",
    "        \n",
    "        for i in range(2,len(path)-1): # Tinh laij cac 1 in put\n",
    "            pp = Find_pp(paths,path[i])\n",
    "            #print(pp)\n",
    "            if len(pp) == 1:\n",
    "                est_lib[path[i]][0] = est_lib[pp[0]][0]+est_lib[pp[0]][1]\n",
    "\n",
    "    #print(est_lib)\n",
    "    est_vals = [est_lib[i][0] for i in est_lib]\n",
    "    eft_vals = [sum(est_lib[i]) for i in est_lib]\n",
    "    #print(est_vals)\n",
    "    return est_vals, eft_vals\n",
    "\n",
    "est_vals, eft_vals = Find_est(tenac,te_vals,paths)\n",
    "print(est_vals) # Gia tri est\n",
    "print(eft_vals) # Gia tri eft\n"
   ]
  },
  {
   "cell_type": "code",
   "execution_count": 36,
   "metadata": {},
   "outputs": [
    {
     "name": "stdout",
     "output_type": "stream",
     "text": [
      "Thoi gian hoan thanh du an: 31\n",
      "[5.0, 11.0, 11.0, 25.0, 29.0, 29.0, 29.0, 31.0]\n",
      "[0.0, 6.0, 5.0, 11.0, 23.0, 25.0, 20.0, 29.0]\n"
     ]
    }
   ],
   "source": [
    "# Tao ham tinh LST và LFT\n",
    "\n",
    "def Find_ap(paths,nameac): # Tim cac diem lien ke sau cua 1 diem tron cac con duong\n",
    "    beforeac = [sublist[i+1] for sublist in paths for i in range(len(sublist)) if sublist[i] == nameac] # Lay cac ac nam truoc nameac trong cac con duong\n",
    "    #print(beforeac)\n",
    "    beforeac_uniq = []\n",
    "    tem = [beforeac_uniq.append(i) for i in beforeac if i not in beforeac_uniq] # Chon loc duy nhat\n",
    "    #print(beforeac_uniq)\n",
    "    return beforeac_uniq\n",
    "#print(Find_pp(paths,nameac))\n",
    "\n",
    "time_end = eft_vals[-1] # thoi gian ket thuc du an\n",
    "print(\"Thoi gian hoan thanh du an: %d\" %(time_end))\n",
    "\n",
    "def Find_lft(tenac,te_vals,paths,time_end): # Tìm est vaf eft cua cac cong viec\n",
    "    \n",
    "    lft_lib = {tenac[i]:[time_end,te_vals[i]] for i in range(len(tenac))} # Tao thu vien est\n",
    "    #print(est_lib)\n",
    "\n",
    "    for path in paths:\n",
    "        for i in range(1,len(path)-2): # Tinh cac 1 output truoc\n",
    "            pp = Find_ap(paths,path[i])\n",
    "            #print(pp)\n",
    "            if len(pp) == 1:\n",
    "                lft_lib[path[i]][0] = lft_lib[pp[0]][0]-lft_lib[pp[0]][1]\n",
    "        \n",
    "        for i in range(1,len(path)-2): # Tinh cac hai output tro len\n",
    "            pp = Find_ap(paths,path[i])\n",
    "            #print(pp)\n",
    "            if len(pp) > 1:\n",
    "                lft_lib[path[i]][0] = min([lft_lib[k][0]-lft_lib[k][1] for k in pp])\n",
    "        \n",
    "        for i in range(1,len(path)-2): # Tinh lai cac 1 output\n",
    "            pp = Find_ap(paths,path[i])\n",
    "            #print(pp)\n",
    "            if len(pp) == 1:\n",
    "                lft_lib[path[i]][0] = lft_lib[pp[0]][0]-lft_lib[pp[0]][1]\n",
    "\n",
    "    #print(lft_lib)\n",
    "    lft_vals = [lft_lib[i][0] for i in lft_lib]\n",
    "    lst_vals = [lft_lib[i][0]-lft_lib[i][1] for i in lft_lib]\n",
    "    #print(est_vals)\n",
    "    return lft_vals, lst_vals\n",
    "\n",
    "lft_vals, lst_vals = Find_lft(tenac,te_vals,paths,time_end)\n",
    "print(lft_vals)\n",
    "print(lst_vals)\n"
   ]
  },
  {
   "cell_type": "markdown",
   "metadata": {},
   "source": [
    "Chỉ cần tính EST và EFT hoặc LST và LFT là đủ để tính thời gian hoàn thành dự án. Tiếp theo cần xác định $\\Sigma\\sigma^2$ của đường Gantt, bằng cách tính tổng các $\\sigma^2$ các công việc trên đường Gantt.  "
   ]
  },
  {
   "cell_type": "code",
   "execution_count": 37,
   "metadata": {},
   "outputs": [
    {
     "name": "stdout",
     "output_type": "stream",
     "text": [
      "Gia tri tong sigma tren Gantt: 7.888888888888888\n"
     ]
    }
   ],
   "source": [
    "# Tính tổng sigma trên đường Gantt\n",
    "#print(paths[index_gantt[0]])\n",
    "index_lay = [i for i in range(len(tenac)) if tenac[i] in paths[index_gantt[0]]] # lay index tren Gantt \n",
    "#print(index_lay)\n",
    "\n",
    "sum_sig = sum([ps[i] for i in index_lay])\n",
    "print(\"Gia tri tong sigma tren Gantt: \"+str(sum_sig))      \n"
   ]
  },
  {
   "cell_type": "markdown",
   "metadata": {},
   "source": [
    "## Bước 5: Xác định thời gian dự kiến hoàn thành dự án\n"
   ]
  },
  {
   "cell_type": "markdown",
   "metadata": {},
   "source": [
    "Từ giá trị $\\mu$ và $\\Sigma\\sigma^2$, tính độ lệch chuẩn ($\\sigma$) và xây dựng phân phối xác suất chuẩn. "
   ]
  },
  {
   "cell_type": "code",
   "execution_count": 38,
   "metadata": {},
   "outputs": [
    {
     "data": {
      "image/png": "[encoded data removed]",
      "text/plain": [
       "<Figure size 432x288 with 1 Axes>"
      ]
     },
     "metadata": {
      "needs_background": "light"
     },
     "output_type": "display_data"
    }
   ],
   "source": [
    "## Tính độ lệch chuẩn\n",
    "import math \n",
    "sigma = math.sqrt(sum_sig)\n",
    "#print(sigma)\n",
    "\n",
    "## Vẽ biểu đồ phân phối chuẩn\n",
    "import matplotlib.pyplot as plt\n",
    "import numpy as np\n",
    "import scipy.stats as stats\n",
    "import math\n",
    "\n",
    "mu = time_end\n",
    "x = np.linspace(mu - 3*sigma, mu + 3*sigma, 100)\n",
    "plt.plot(x, stats.norm.pdf(x, mu, sigma))\n",
    "plt.show()"
   ]
  },
  {
   "cell_type": "markdown",
   "metadata": {},
   "source": [
    "**Muốn xác định thời gian hoàn thành dự án, chuyển thời gian đó từ phân bố chuẩn sang phân bố Z (ngay gốc tọa độ) rồi tra bảng Z-score**\n",
    "$$ Z = \\frac{D -\\mu}{\\sqrt{\\sigma^2}}$$\n",
    "<u>Với:</u>\n",
    "- $D$: giá trị thời gian dự đoán\n",
    "- $\\mu$: giá trị trung bình của phân bố chuẩn\n",
    "- $\\sigma$: độ lệch chuẩn"
   ]
  },
  {
   "cell_type": "markdown",
   "metadata": {},
   "source": [
    "Vd: Tính xác suất hoàn thành dự án trong 31 ngày"
   ]
  },
  {
   "cell_type": "code",
   "execution_count": 39,
   "metadata": {},
   "outputs": [
    {
     "name": "stdout",
     "output_type": "stream",
     "text": [
      "0.857263084650707\n"
     ]
    }
   ],
   "source": [
    "time  = 34\n",
    "# Chuyển sang phân bố Z\n",
    "time_z = (time - time_end)/sigma\n",
    "#print(time_z) \n",
    "ss = stats.norm.cdf(time_z)\n",
    "print(ss)"
   ]
  }
 ],
 "metadata": {
  "kernelspec": {
   "display_name": "Python 3.9.7 64-bit",
   "language": "python",
   "name": "python3"
  },
  "language_info": {
   "codemirror_mode": {
    "name": "ipython",
    "version": 3
   },
   "file_extension": ".py",
   "mimetype": "text/x-python",
   "name": "python",
   "nbconvert_exporter": "python",
   "pygments_lexer": "ipython3",
   "version": "3.9.7"
  },
  "orig_nbformat": 4,
  "vscode": {
   "interpreter": {
    "hash": "e33dda8a4d12c9c36a233218a905238da2bb40652a11ab3365bb0fe0ea2bff9b"
   }
  }
 },
 "nbformat": 4,
 "nbformat_minor": 2
}
